{
 "cells": [
  {
   "cell_type": "code",
   "execution_count": 2,
   "id": "5abb832d",
   "metadata": {},
   "outputs": [],
   "source": [
    "import pandas as pd\n",
    "import numpy as np\n",
    "import matplotlib.pyplot as plt\n",
    "import os"
   ]
  },
  {
   "cell_type": "code",
   "execution_count": 3,
   "id": "9cd38265",
   "metadata": {},
   "outputs": [
    {
     "data": {
      "text/plain": [
       "['Binance_BTCUSDT_d.csv', 'Binance_BTCUSDT_minute.csv']"
      ]
     },
     "execution_count": 3,
     "metadata": {},
     "output_type": "execute_result"
    }
   ],
   "source": [
    "folder = r'C:\\Users\\kasiditp\\Desktop\\datasets'\n",
    "file_names = [i for i in os.listdir(r'C:\\Users\\kasiditp\\Desktop\\datasets') if i.startswith('Binance')]\n",
    "file_names"
   ]
  },
  {
   "cell_type": "code",
   "execution_count": 7,
   "id": "f50bebd0",
   "metadata": {},
   "outputs": [],
   "source": [
    "df = pd.read_csv(os.path.join(folder,'Binance_BTCUSDT_minute.csv'),skiprows=1)"
   ]
  },
  {
   "cell_type": "code",
   "execution_count": 8,
   "id": "f0e3851d",
   "metadata": {},
   "outputs": [
    {
     "data": {
      "text/html": [
       "<div>\n",
       "<style scoped>\n",
       "    .dataframe tbody tr th:only-of-type {\n",
       "        vertical-align: middle;\n",
       "    }\n",
       "\n",
       "    .dataframe tbody tr th {\n",
       "        vertical-align: top;\n",
       "    }\n",
       "\n",
       "    .dataframe thead th {\n",
       "        text-align: right;\n",
       "    }\n",
       "</style>\n",
       "<table border=\"1\" class=\"dataframe\">\n",
       "  <thead>\n",
       "    <tr style=\"text-align: right;\">\n",
       "      <th></th>\n",
       "      <th>unix</th>\n",
       "      <th>date</th>\n",
       "      <th>symbol</th>\n",
       "      <th>open</th>\n",
       "      <th>high</th>\n",
       "      <th>low</th>\n",
       "      <th>close</th>\n",
       "      <th>Volume BTC</th>\n",
       "      <th>Volume USDT</th>\n",
       "      <th>tradecount</th>\n",
       "    </tr>\n",
       "  </thead>\n",
       "  <tbody>\n",
       "    <tr>\n",
       "      <th>0</th>\n",
       "      <td>1643076300000</td>\n",
       "      <td>2022-01-25 02:05:00</td>\n",
       "      <td>BTC/USDT</td>\n",
       "      <td>36125.54</td>\n",
       "      <td>36128.30</td>\n",
       "      <td>36088.68</td>\n",
       "      <td>36123.04</td>\n",
       "      <td>24.13664</td>\n",
       "      <td>8.716604e+05</td>\n",
       "      <td>946</td>\n",
       "    </tr>\n",
       "    <tr>\n",
       "      <th>1</th>\n",
       "      <td>1643076240000</td>\n",
       "      <td>2022-01-25 02:04:00</td>\n",
       "      <td>BTC/USDT</td>\n",
       "      <td>36086.81</td>\n",
       "      <td>36149.36</td>\n",
       "      <td>36086.81</td>\n",
       "      <td>36128.30</td>\n",
       "      <td>17.30623</td>\n",
       "      <td>6.251052e+05</td>\n",
       "      <td>790</td>\n",
       "    </tr>\n",
       "    <tr>\n",
       "      <th>2</th>\n",
       "      <td>1643076180000</td>\n",
       "      <td>2022-01-25 02:03:00</td>\n",
       "      <td>BTC/USDT</td>\n",
       "      <td>36115.20</td>\n",
       "      <td>36133.11</td>\n",
       "      <td>36084.85</td>\n",
       "      <td>36086.82</td>\n",
       "      <td>71.93752</td>\n",
       "      <td>2.598142e+06</td>\n",
       "      <td>1363</td>\n",
       "    </tr>\n",
       "    <tr>\n",
       "      <th>3</th>\n",
       "      <td>1643076120000</td>\n",
       "      <td>2022-01-25 02:02:00</td>\n",
       "      <td>BTC/USDT</td>\n",
       "      <td>36134.20</td>\n",
       "      <td>36148.86</td>\n",
       "      <td>36113.07</td>\n",
       "      <td>36115.20</td>\n",
       "      <td>52.04091</td>\n",
       "      <td>1.880093e+06</td>\n",
       "      <td>1216</td>\n",
       "    </tr>\n",
       "    <tr>\n",
       "      <th>4</th>\n",
       "      <td>1643076060000</td>\n",
       "      <td>2022-01-25 02:01:00</td>\n",
       "      <td>BTC/USDT</td>\n",
       "      <td>36115.82</td>\n",
       "      <td>36149.79</td>\n",
       "      <td>36102.86</td>\n",
       "      <td>36137.74</td>\n",
       "      <td>20.34114</td>\n",
       "      <td>7.348412e+05</td>\n",
       "      <td>635</td>\n",
       "    </tr>\n",
       "  </tbody>\n",
       "</table>\n",
       "</div>"
      ],
      "text/plain": [
       "            unix                 date    symbol      open      high       low  \\\n",
       "0  1643076300000  2022-01-25 02:05:00  BTC/USDT  36125.54  36128.30  36088.68   \n",
       "1  1643076240000  2022-01-25 02:04:00  BTC/USDT  36086.81  36149.36  36086.81   \n",
       "2  1643076180000  2022-01-25 02:03:00  BTC/USDT  36115.20  36133.11  36084.85   \n",
       "3  1643076120000  2022-01-25 02:02:00  BTC/USDT  36134.20  36148.86  36113.07   \n",
       "4  1643076060000  2022-01-25 02:01:00  BTC/USDT  36115.82  36149.79  36102.86   \n",
       "\n",
       "      close  Volume BTC   Volume USDT  tradecount  \n",
       "0  36123.04    24.13664  8.716604e+05         946  \n",
       "1  36128.30    17.30623  6.251052e+05         790  \n",
       "2  36086.82    71.93752  2.598142e+06        1363  \n",
       "3  36115.20    52.04091  1.880093e+06        1216  \n",
       "4  36137.74    20.34114  7.348412e+05         635  "
      ]
     },
     "execution_count": 8,
     "metadata": {},
     "output_type": "execute_result"
    }
   ],
   "source": [
    "df.head()"
   ]
  },
  {
   "cell_type": "code",
   "execution_count": 9,
   "id": "d6ed4d80",
   "metadata": {},
   "outputs": [
    {
     "data": {
      "text/plain": [
       "Index(['unix', 'date', 'symbol', 'open', 'high', 'low', 'close', 'Volume BTC',\n",
       "       'Volume USDT', 'tradecount'],\n",
       "      dtype='object')"
      ]
     },
     "execution_count": 9,
     "metadata": {},
     "output_type": "execute_result"
    }
   ],
   "source": [
    "df.columns"
   ]
  },
  {
   "cell_type": "code",
   "execution_count": 11,
   "id": "103bdc55",
   "metadata": {},
   "outputs": [],
   "source": [
    "#reorder date\n",
    "df = df.sort_values(by = ['date'])"
   ]
  },
  {
   "cell_type": "code",
   "execution_count": 27,
   "id": "7cb658c2",
   "metadata": {},
   "outputs": [],
   "source": [
    "df.date = pd.to_datetime(df.date )"
   ]
  },
  {
   "cell_type": "code",
   "execution_count": 28,
   "id": "a3ee8fe5",
   "metadata": {},
   "outputs": [
    {
     "data": {
      "text/html": [
       "<div>\n",
       "<style scoped>\n",
       "    .dataframe tbody tr th:only-of-type {\n",
       "        vertical-align: middle;\n",
       "    }\n",
       "\n",
       "    .dataframe tbody tr th {\n",
       "        vertical-align: top;\n",
       "    }\n",
       "\n",
       "    .dataframe thead th {\n",
       "        text-align: right;\n",
       "    }\n",
       "</style>\n",
       "<table border=\"1\" class=\"dataframe\">\n",
       "  <thead>\n",
       "    <tr style=\"text-align: right;\">\n",
       "      <th></th>\n",
       "      <th>unix</th>\n",
       "      <th>date</th>\n",
       "      <th>symbol</th>\n",
       "      <th>open</th>\n",
       "      <th>high</th>\n",
       "      <th>low</th>\n",
       "      <th>close</th>\n",
       "      <th>Volume BTC</th>\n",
       "      <th>Volume USDT</th>\n",
       "      <th>tradecount</th>\n",
       "    </tr>\n",
       "  </thead>\n",
       "  <tbody>\n",
       "    <tr>\n",
       "      <th>1246439</th>\n",
       "      <td>1567965420000</td>\n",
       "      <td>2019-09-08 17:57:00</td>\n",
       "      <td>BTC/USDT</td>\n",
       "      <td>10000.0</td>\n",
       "      <td>10000.0</td>\n",
       "      <td>10000.0</td>\n",
       "      <td>10000.0</td>\n",
       "      <td>0.001</td>\n",
       "      <td>10.0</td>\n",
       "      <td>1</td>\n",
       "    </tr>\n",
       "    <tr>\n",
       "      <th>1246438</th>\n",
       "      <td>1567965480000</td>\n",
       "      <td>2019-09-08 17:58:00</td>\n",
       "      <td>BTC/USDT</td>\n",
       "      <td>10000.0</td>\n",
       "      <td>10000.0</td>\n",
       "      <td>10000.0</td>\n",
       "      <td>10000.0</td>\n",
       "      <td>0.000</td>\n",
       "      <td>0.0</td>\n",
       "      <td>0</td>\n",
       "    </tr>\n",
       "    <tr>\n",
       "      <th>1246437</th>\n",
       "      <td>1567965540000</td>\n",
       "      <td>2019-09-08 17:59:00</td>\n",
       "      <td>BTC/USDT</td>\n",
       "      <td>10000.0</td>\n",
       "      <td>10000.0</td>\n",
       "      <td>10000.0</td>\n",
       "      <td>10000.0</td>\n",
       "      <td>0.001</td>\n",
       "      <td>10.0</td>\n",
       "      <td>1</td>\n",
       "    </tr>\n",
       "    <tr>\n",
       "      <th>1246436</th>\n",
       "      <td>1567965600000</td>\n",
       "      <td>2019-09-08 18:00:00</td>\n",
       "      <td>BTC/USDT</td>\n",
       "      <td>10000.0</td>\n",
       "      <td>10000.0</td>\n",
       "      <td>10000.0</td>\n",
       "      <td>10000.0</td>\n",
       "      <td>0.000</td>\n",
       "      <td>0.0</td>\n",
       "      <td>0</td>\n",
       "    </tr>\n",
       "    <tr>\n",
       "      <th>1246435</th>\n",
       "      <td>1567965660000</td>\n",
       "      <td>2019-09-08 18:01:00</td>\n",
       "      <td>BTC/USDT</td>\n",
       "      <td>10000.0</td>\n",
       "      <td>10000.0</td>\n",
       "      <td>10000.0</td>\n",
       "      <td>10000.0</td>\n",
       "      <td>0.000</td>\n",
       "      <td>0.0</td>\n",
       "      <td>0</td>\n",
       "    </tr>\n",
       "  </tbody>\n",
       "</table>\n",
       "</div>"
      ],
      "text/plain": [
       "                  unix                date    symbol     open     high  \\\n",
       "1246439  1567965420000 2019-09-08 17:57:00  BTC/USDT  10000.0  10000.0   \n",
       "1246438  1567965480000 2019-09-08 17:58:00  BTC/USDT  10000.0  10000.0   \n",
       "1246437  1567965540000 2019-09-08 17:59:00  BTC/USDT  10000.0  10000.0   \n",
       "1246436  1567965600000 2019-09-08 18:00:00  BTC/USDT  10000.0  10000.0   \n",
       "1246435  1567965660000 2019-09-08 18:01:00  BTC/USDT  10000.0  10000.0   \n",
       "\n",
       "             low    close  Volume BTC  Volume USDT  tradecount  \n",
       "1246439  10000.0  10000.0       0.001         10.0           1  \n",
       "1246438  10000.0  10000.0       0.000          0.0           0  \n",
       "1246437  10000.0  10000.0       0.001         10.0           1  \n",
       "1246436  10000.0  10000.0       0.000          0.0           0  \n",
       "1246435  10000.0  10000.0       0.000          0.0           0  "
      ]
     },
     "execution_count": 28,
     "metadata": {},
     "output_type": "execute_result"
    }
   ],
   "source": [
    "df.head()"
   ]
  },
  {
   "cell_type": "code",
   "execution_count": 33,
   "id": "be9a1652",
   "metadata": {},
   "outputs": [
    {
     "data": {
      "text/plain": [
       "[<matplotlib.lines.Line2D at 0x14704bc5d30>]"
      ]
     },
     "execution_count": 33,
     "metadata": {},
     "output_type": "execute_result"
    },
    {
     "data": {
      "image/png": "[encoded data removed]",
      "text/plain": [
       "<Figure size 1080x720 with 2 Axes>"
      ]
     },
     "metadata": {
      "needs_background": "light"
     },
     "output_type": "display_data"
    }
   ],
   "source": [
    "fig, ax = plt.subplots(2,1,figsize=(15,10))\n",
    "ax[0].plot(df['date'], df['open'])\n",
    "ax[1].plot(df['date'], df['Volume BTC'])"
   ]
  },
  {
   "cell_type": "code",
   "execution_count": 39,
   "id": "9c816d52",
   "metadata": {},
   "outputs": [],
   "source": [
    "df['open_shf'] = df['open'].shift(-1)"
   ]
  },
  {
   "cell_type": "code",
   "execution_count": 41,
   "id": "c94c9fe2",
   "metadata": {},
   "outputs": [
    {
     "data": {
      "text/html": [
       "<div>\n",
       "<style scoped>\n",
       "    .dataframe tbody tr th:only-of-type {\n",
       "        vertical-align: middle;\n",
       "    }\n",
       "\n",
       "    .dataframe tbody tr th {\n",
       "        vertical-align: top;\n",
       "    }\n",
       "\n",
       "    .dataframe thead th {\n",
       "        text-align: right;\n",
       "    }\n",
       "</style>\n",
       "<table border=\"1\" class=\"dataframe\">\n",
       "  <thead>\n",
       "    <tr style=\"text-align: right;\">\n",
       "      <th></th>\n",
       "      <th>unix</th>\n",
       "      <th>date</th>\n",
       "      <th>symbol</th>\n",
       "      <th>open</th>\n",
       "      <th>high</th>\n",
       "      <th>low</th>\n",
       "      <th>close</th>\n",
       "      <th>Volume BTC</th>\n",
       "      <th>Volume USDT</th>\n",
       "      <th>tradecount</th>\n",
       "      <th>open_shf</th>\n",
       "    </tr>\n",
       "  </thead>\n",
       "  <tbody>\n",
       "    <tr>\n",
       "      <th>4</th>\n",
       "      <td>1643076060000</td>\n",
       "      <td>2022-01-25 02:01:00</td>\n",
       "      <td>BTC/USDT</td>\n",
       "      <td>36115.82</td>\n",
       "      <td>36149.79</td>\n",
       "      <td>36102.86</td>\n",
       "      <td>36137.74</td>\n",
       "      <td>20.34114</td>\n",
       "      <td>7.348412e+05</td>\n",
       "      <td>635</td>\n",
       "      <td>36134.20</td>\n",
       "    </tr>\n",
       "    <tr>\n",
       "      <th>3</th>\n",
       "      <td>1643076120000</td>\n",
       "      <td>2022-01-25 02:02:00</td>\n",
       "      <td>BTC/USDT</td>\n",
       "      <td>36134.20</td>\n",
       "      <td>36148.86</td>\n",
       "      <td>36113.07</td>\n",
       "      <td>36115.20</td>\n",
       "      <td>52.04091</td>\n",
       "      <td>1.880093e+06</td>\n",
       "      <td>1216</td>\n",
       "      <td>36115.20</td>\n",
       "    </tr>\n",
       "    <tr>\n",
       "      <th>2</th>\n",
       "      <td>1643076180000</td>\n",
       "      <td>2022-01-25 02:03:00</td>\n",
       "      <td>BTC/USDT</td>\n",
       "      <td>36115.20</td>\n",
       "      <td>36133.11</td>\n",
       "      <td>36084.85</td>\n",
       "      <td>36086.82</td>\n",
       "      <td>71.93752</td>\n",
       "      <td>2.598142e+06</td>\n",
       "      <td>1363</td>\n",
       "      <td>36086.81</td>\n",
       "    </tr>\n",
       "    <tr>\n",
       "      <th>1</th>\n",
       "      <td>1643076240000</td>\n",
       "      <td>2022-01-25 02:04:00</td>\n",
       "      <td>BTC/USDT</td>\n",
       "      <td>36086.81</td>\n",
       "      <td>36149.36</td>\n",
       "      <td>36086.81</td>\n",
       "      <td>36128.30</td>\n",
       "      <td>17.30623</td>\n",
       "      <td>6.251052e+05</td>\n",
       "      <td>790</td>\n",
       "      <td>36125.54</td>\n",
       "    </tr>\n",
       "    <tr>\n",
       "      <th>0</th>\n",
       "      <td>1643076300000</td>\n",
       "      <td>2022-01-25 02:05:00</td>\n",
       "      <td>BTC/USDT</td>\n",
       "      <td>36125.54</td>\n",
       "      <td>36128.30</td>\n",
       "      <td>36088.68</td>\n",
       "      <td>36123.04</td>\n",
       "      <td>24.13664</td>\n",
       "      <td>8.716604e+05</td>\n",
       "      <td>946</td>\n",
       "      <td>NaN</td>\n",
       "    </tr>\n",
       "  </tbody>\n",
       "</table>\n",
       "</div>"
      ],
      "text/plain": [
       "            unix                date    symbol      open      high       low  \\\n",
       "4  1643076060000 2022-01-25 02:01:00  BTC/USDT  36115.82  36149.79  36102.86   \n",
       "3  1643076120000 2022-01-25 02:02:00  BTC/USDT  36134.20  36148.86  36113.07   \n",
       "2  1643076180000 2022-01-25 02:03:00  BTC/USDT  36115.20  36133.11  36084.85   \n",
       "1  1643076240000 2022-01-25 02:04:00  BTC/USDT  36086.81  36149.36  36086.81   \n",
       "0  1643076300000 2022-01-25 02:05:00  BTC/USDT  36125.54  36128.30  36088.68   \n",
       "\n",
       "      close  Volume BTC   Volume USDT  tradecount  open_shf  \n",
       "4  36137.74    20.34114  7.348412e+05         635  36134.20  \n",
       "3  36115.20    52.04091  1.880093e+06        1216  36115.20  \n",
       "2  36086.82    71.93752  2.598142e+06        1363  36086.81  \n",
       "1  36128.30    17.30623  6.251052e+05         790  36125.54  \n",
       "0  36123.04    24.13664  8.716604e+05         946       NaN  "
      ]
     },
     "execution_count": 41,
     "metadata": {},
     "output_type": "execute_result"
    }
   ],
   "source": [
    "df.tail()"
   ]
  },
  {
   "cell_type": "code",
   "execution_count": 46,
   "id": "24bbd6c3",
   "metadata": {},
   "outputs": [],
   "source": [
    "#minmaxscaler\n",
    "from sklearn.preprocessing import MinMaxScaler\n",
    "scaler = MinMaxScaler()\n",
    "X = scaler.fit_transform(df['open'].values.reshape(-1,1))\n",
    "y = scaler.fit_transform(df['open_shf'].values.reshape(-1,1))"
   ]
  },
  {
   "cell_type": "code",
   "execution_count": 56,
   "id": "13148ce8",
   "metadata": {},
   "outputs": [],
   "source": [
    "#split train and test\n",
    "training_size = int(0.8*len(X))\n",
    "X_train = X[:training_size]\n",
    "y_train = y[:training_size]\n",
    "X_test = X[training_size:]\n",
    "y_test = y[training_size:]"
   ]
  },
  {
   "cell_type": "code",
   "execution_count": 58,
   "id": "0b4174c6",
   "metadata": {},
   "outputs": [
    {
     "data": {
      "text/plain": [
       "(997152, 1)"
      ]
     },
     "execution_count": 58,
     "metadata": {},
     "output_type": "execute_result"
    }
   ],
   "source": [
    "X_train.shape"
   ]
  },
  {
   "cell_type": "code",
   "execution_count": 70,
   "id": "9ce9b9ba",
   "metadata": {},
   "outputs": [
    {
     "name": "stdout",
     "output_type": "stream",
     "text": [
      "Model: \"sequential_4\"\n",
      "_________________________________________________________________\n",
      " Layer (type)                Output Shape              Param #   \n",
      "=================================================================\n",
      " lstm_7 (LSTM)               (None, 997152, 50)        10400     \n",
      "                                                                 \n",
      " dropout_1 (Dropout)         (None, 997152, 50)        0         \n",
      "                                                                 \n",
      " lstm_8 (LSTM)               (None, 50)                20200     \n",
      "                                                                 \n",
      " dense (Dense)               (None, 2)                 102       \n",
      "                                                                 \n",
      "=================================================================\n",
      "Total params: 30,702\n",
      "Trainable params: 30,702\n",
      "Non-trainable params: 0\n",
      "_________________________________________________________________\n"
     ]
    }
   ],
   "source": [
    "#LSTM\n",
    "from tensorflow import keras\n",
    "from keras.models import Sequential\n",
    "from keras.layers import LSTM\n",
    "from keras.layers import Dense\n",
    "from keras.layers import Dropout \n",
    "model = Sequential()\n",
    "model.add(LSTM(units=50,return_sequences=True, input_shape = (X_train.shape[0], 1)))\n",
    "model.add(Dropout(0.1)) \n",
    "model.add(LSTM(units=50))\n",
    "model.add(Dense(2))\n",
    "model.compile(loss='mean_squared_error', optimizer='adam', metrics=['mean_absolute_error'])\n",
    "model.summary()"
   ]
  },
  {
   "cell_type": "code",
   "execution_count": 71,
   "id": "2a1b55fa",
   "metadata": {},
   "outputs": [
    {
     "name": "stdout",
     "output_type": "stream",
     "text": [
      "Epoch 1/100\n",
      "WARNING:tensorflow:Model was constructed with shape (None, 997152, 1) for input KerasTensor(type_spec=TensorSpec(shape=(None, 997152, 1), dtype=tf.float32, name='lstm_7_input'), name='lstm_7_input', description=\"created by layer 'lstm_7_input'\"), but it was called on an input with incompatible shape (32, 1, 1).\n",
      "WARNING:tensorflow:Model was constructed with shape (None, 997152, 1) for input KerasTensor(type_spec=TensorSpec(shape=(None, 997152, 1), dtype=tf.float32, name='lstm_7_input'), name='lstm_7_input', description=\"created by layer 'lstm_7_input'\"), but it was called on an input with incompatible shape (32, 1, 1).\n",
      "31161/31161 [==============================] - 52s 2ms/step - loss: 3.5032e-04 - mean_absolute_error: 0.0086\n",
      "Epoch 2/100\n",
      "31161/31161 [==============================] - 67s 2ms/step - loss: 6.6899e-05 - mean_absolute_error: 0.0054\n",
      "Epoch 3/100\n",
      "31161/31161 [==============================] - 71s 2ms/step - loss: 4.0446e-05 - mean_absolute_error: 0.0042\n",
      "Epoch 4/100\n",
      "31161/31161 [==============================] - 69s 2ms/step - loss: 3.0478e-05 - mean_absolute_error: 0.0036\n",
      "Epoch 5/100\n",
      "31161/31161 [==============================] - 69s 2ms/step - loss: 2.6065e-05 - mean_absolute_error: 0.0033\n",
      "Epoch 6/100\n",
      "31161/31161 [==============================] - 69s 2ms/step - loss: 2.2214e-05 - mean_absolute_error: 0.0030\n",
      "Epoch 7/100\n",
      "31161/31161 [==============================] - 70s 2ms/step - loss: 1.9764e-05 - mean_absolute_error: 0.0029\n",
      "Epoch 8/100\n",
      "31161/31161 [==============================] - 69s 2ms/step - loss: 1.7884e-05 - mean_absolute_error: 0.0028\n",
      "Epoch 9/100\n",
      "31161/31161 [==============================] - 70s 2ms/step - loss: 1.5551e-05 - mean_absolute_error: 0.0026\n",
      "Epoch 10/100\n",
      "31161/31161 [==============================] - 69s 2ms/step - loss: 1.0407e-05 - mean_absolute_error: 0.0022\n",
      "Epoch 11/100\n",
      "31161/31161 [==============================] - 69s 2ms/step - loss: 7.0174e-06 - mean_absolute_error: 0.0018\n",
      "Epoch 12/100\n",
      "31161/31161 [==============================] - 69s 2ms/step - loss: 4.7365e-06 - mean_absolute_error: 0.0015\n",
      "Epoch 13/100\n",
      "31161/31161 [==============================] - 78s 3ms/step - loss: 3.1759e-06 - mean_absolute_error: 0.0012\n",
      "Epoch 14/100\n",
      "31161/31161 [==============================] - 71s 2ms/step - loss: 2.5064e-06 - mean_absolute_error: 0.0010\n",
      "Epoch 15/100\n",
      "31161/31161 [==============================] - 75s 2ms/step - loss: 2.1495e-06 - mean_absolute_error: 9.4244e-04\n",
      "Epoch 16/100\n",
      "31161/31161 [==============================] - 75s 2ms/step - loss: 1.9241e-06 - mean_absolute_error: 8.8330e-04\n",
      "Epoch 17/100\n",
      "31161/31161 [==============================] - 71s 2ms/step - loss: 1.7420e-06 - mean_absolute_error: 8.3562e-04: 0s - loss: 1.7419e-06 - mean_absolute_error: 8.3558e-\n",
      "Epoch 18/100\n",
      "31161/31161 [==============================] - 73s 2ms/step - loss: 1.6097e-06 - mean_absolute_error: 7.9884e-04\n",
      "Epoch 19/100\n",
      "31161/31161 [==============================] - 70s 2ms/step - loss: 1.5066e-06 - mean_absolute_error: 7.7228e-04\n",
      "Epoch 20/100\n",
      "31161/31161 [==============================] - 68s 2ms/step - loss: 1.4233e-06 - mean_absolute_error: 7.5088e-04\n",
      "Epoch 21/100\n",
      "31161/31161 [==============================] - 73s 2ms/step - loss: 1.3456e-06 - mean_absolute_error: 7.2424e-04\n",
      "Epoch 22/100\n",
      "31161/31161 [==============================] - 71s 2ms/step - loss: 1.2757e-06 - mean_absolute_error: 7.0892e-04\n",
      "Epoch 23/100\n",
      "31161/31161 [==============================] - 76s 2ms/step - loss: 1.2164e-06 - mean_absolute_error: 6.8942e-04\n",
      "Epoch 24/100\n",
      "31161/31161 [==============================] - 65s 2ms/step - loss: 1.1972e-06 - mean_absolute_error: 6.7927e-04\n",
      "Epoch 25/100\n",
      "31161/31161 [==============================] - 67s 2ms/step - loss: 1.1518e-06 - mean_absolute_error: 6.6288e-04\n",
      "Epoch 26/100\n",
      "31161/31161 [==============================] - 68s 2ms/step - loss: 1.1112e-06 - mean_absolute_error: 6.5406e-04\n",
      "Epoch 27/100\n",
      "31161/31161 [==============================] - 67s 2ms/step - loss: 1.0787e-06 - mean_absolute_error: 6.4327e-04\n",
      "Epoch 28/100\n",
      "31161/31161 [==============================] - 66s 2ms/step - loss: 1.0595e-06 - mean_absolute_error: 6.3621e-04: 0s - loss: 1.0607e-06 - mean_absolute\n",
      "Epoch 29/100\n",
      "31161/31161 [==============================] - 66s 2ms/step - loss: 1.0504e-06 - mean_absolute_error: 6.3210e-04\n",
      "Epoch 30/100\n",
      "31161/31161 [==============================] - 66s 2ms/step - loss: 1.0050e-06 - mean_absolute_error: 6.1820e-04\n",
      "Epoch 31/100\n",
      "31161/31161 [==============================] - 66s 2ms/step - loss: 1.0040e-06 - mean_absolute_error: 6.1613e-04\n",
      "Epoch 32/100\n",
      "31161/31161 [==============================] - 66s 2ms/step - loss: 9.8539e-07 - mean_absolute_error: 6.1186e-04\n",
      "Epoch 33/100\n",
      "31161/31161 [==============================] - 70s 2ms/step - loss: 9.7064e-07 - mean_absolute_error: 6.0692e-04\n",
      "Epoch 34/100\n",
      "31161/31161 [==============================] - 66s 2ms/step - loss: 9.6000e-07 - mean_absolute_error: 6.0220e-04\n",
      "Epoch 35/100\n",
      "31161/31161 [==============================] - 69s 2ms/step - loss: 9.3989e-07 - mean_absolute_error: 5.9743e-04\n",
      "Epoch 36/100\n",
      "31161/31161 [==============================] - 81s 3ms/step - loss: 9.3300e-07 - mean_absolute_error: 5.9632e-04\n",
      "Epoch 37/100\n",
      "31161/31161 [==============================] - 81s 3ms/step - loss: 9.2309e-07 - mean_absolute_error: 5.8646e-04\n",
      "Epoch 38/100\n",
      "31161/31161 [==============================] - 81s 3ms/step - loss: 9.2947e-07 - mean_absolute_error: 5.8806e-04\n",
      "Epoch 39/100\n",
      "31161/31161 [==============================] - 86s 3ms/step - loss: 9.1483e-07 - mean_absolute_error: 5.8624e-04\n",
      "Epoch 40/100\n",
      "31161/31161 [==============================] - 83s 3ms/step - loss: 9.1572e-07 - mean_absolute_error: 5.8806e-04\n",
      "Epoch 41/100\n",
      "31161/31161 [==============================] - 82s 3ms/step - loss: 9.1914e-07 - mean_absolute_error: 5.8603e-04\n",
      "Epoch 42/100\n",
      "31161/31161 [==============================] - 84s 3ms/step - loss: 8.9642e-07 - mean_absolute_error: 5.8046e-04\n",
      "Epoch 43/100\n",
      "31161/31161 [==============================] - 78s 2ms/step - loss: 8.9069e-07 - mean_absolute_error: 5.7571e-04\n",
      "Epoch 44/100\n",
      "31161/31161 [==============================] - 78s 2ms/step - loss: 8.8050e-07 - mean_absolute_error: 5.7532e-04\n",
      "Epoch 45/100\n",
      "31161/31161 [==============================] - 76s 2ms/step - loss: 8.6205e-07 - mean_absolute_error: 5.6749e-04\n",
      "Epoch 46/100\n",
      "31161/31161 [==============================] - 70s 2ms/step - loss: 8.7040e-07 - mean_absolute_error: 5.7196e-04\n",
      "Epoch 47/100\n",
      "31161/31161 [==============================] - 70s 2ms/step - loss: 8.6363e-07 - mean_absolute_error: 5.6840e-04\n",
      "Epoch 48/100\n",
      "31161/31161 [==============================] - 78s 2ms/step - loss: 8.4496e-07 - mean_absolute_error: 5.6244e-04\n",
      "Epoch 49/100\n",
      "31161/31161 [==============================] - 72s 2ms/step - loss: 8.5349e-07 - mean_absolute_error: 5.6457e-04\n",
      "Epoch 50/100\n",
      "31161/31161 [==============================] - 79s 3ms/step - loss: 8.4833e-07 - mean_absolute_error: 5.6267e-04\n",
      "Epoch 51/100\n",
      "31161/31161 [==============================] - 68s 2ms/step - loss: 8.2908e-07 - mean_absolute_error: 5.5854e-04\n",
      "Epoch 52/100\n",
      "31161/31161 [==============================] - 87s 3ms/step - loss: 8.1386e-07 - mean_absolute_error: 5.5154e-04\n",
      "Epoch 53/100\n",
      "31161/31161 [==============================] - 86s 3ms/step - loss: 8.3126e-07 - mean_absolute_error: 5.5840e-04\n",
      "Epoch 54/100\n",
      "31161/31161 [==============================] - 91s 3ms/step - loss: 8.3050e-07 - mean_absolute_error: 5.5361e-04\n",
      "Epoch 55/100\n",
      "31161/31161 [==============================] - 84s 3ms/step - loss: 8.0526e-07 - mean_absolute_error: 5.4737e-04\n",
      "Epoch 56/100\n",
      "31161/31161 [==============================] - 73s 2ms/step - loss: 8.0186e-07 - mean_absolute_error: 5.4719e-04\n",
      "Epoch 57/100\n",
      "31161/31161 [==============================] - 79s 3ms/step - loss: 8.1871e-07 - mean_absolute_error: 5.4946e-04\n",
      "Epoch 58/100\n",
      "31161/31161 [==============================] - 84s 3ms/step - loss: 8.0618e-07 - mean_absolute_error: 5.4696e-04:\n",
      "Epoch 59/100\n",
      "31161/31161 [==============================] - 73s 2ms/step - loss: 8.0704e-07 - mean_absolute_error: 5.4612e-04\n",
      "Epoch 60/100\n",
      "31161/31161 [==============================] - 70s 2ms/step - loss: 7.9254e-07 - mean_absolute_error: 5.4527e-04\n",
      "Epoch 61/100\n",
      "31161/31161 [==============================] - 71s 2ms/step - loss: 7.9417e-07 - mean_absolute_error: 5.4142e-04: 0s - loss: 7.9599e-07 - mean_absolute_er\n",
      "Epoch 62/100\n",
      "31161/31161 [==============================] - 74s 2ms/step - loss: 7.9067e-07 - mean_absolute_error: 5.4200e-04\n",
      "Epoch 63/100\n",
      "31161/31161 [==============================] - 74s 2ms/step - loss: 7.8615e-07 - mean_absolute_error: 5.4188e-04\n",
      "Epoch 64/100\n",
      "31161/31161 [==============================] - 77s 2ms/step - loss: 7.8372e-07 - mean_absolute_error: 5.3858e-04\n",
      "Epoch 65/100\n",
      "31161/31161 [==============================] - 86s 3ms/step - loss: 7.8081e-07 - mean_absolute_error: 5.3838e-04\n",
      "Epoch 66/100\n",
      "31161/31161 [==============================] - 75s 2ms/step - loss: 7.7256e-07 - mean_absolute_error: 5.3694e-04\n",
      "Epoch 67/100\n",
      "31161/31161 [==============================] - 67s 2ms/step - loss: 7.5837e-07 - mean_absolute_error: 5.3139e-04\n",
      "Epoch 68/100\n",
      "31161/31161 [==============================] - 84s 3ms/step - loss: 7.6485e-07 - mean_absolute_error: 5.3002e-04\n",
      "Epoch 69/100\n",
      "31161/31161 [==============================] - 89s 3ms/step - loss: 7.6157e-07 - mean_absolute_error: 5.3054e-04\n",
      "Epoch 70/100\n",
      "31161/31161 [==============================] - 81s 3ms/step - loss: 7.7193e-07 - mean_absolute_error: 5.3417e-04\n",
      "Epoch 71/100\n",
      "31161/31161 [==============================] - 84s 3ms/step - loss: 7.6048e-07 - mean_absolute_error: 5.2921e-04\n",
      "Epoch 72/100\n",
      "31161/31161 [==============================] - 84s 3ms/step - loss: 7.5054e-07 - mean_absolute_error: 5.2888e-04\n",
      "Epoch 73/100\n",
      "31161/31161 [==============================] - 79s 3ms/step - loss: 7.5732e-07 - mean_absolute_error: 5.3048e-04\n",
      "Epoch 74/100\n",
      "31161/31161 [==============================] - 67s 2ms/step - loss: 7.5614e-07 - mean_absolute_error: 5.2834e-04\n",
      "Epoch 75/100\n",
      "31161/31161 [==============================] - 70s 2ms/step - loss: 7.6040e-07 - mean_absolute_error: 5.3065e-04\n",
      "Epoch 76/100\n",
      "31161/31161 [==============================] - 73s 2ms/step - loss: 7.3442e-07 - mean_absolute_error: 5.2269e-04\n",
      "Epoch 77/100\n",
      "31161/31161 [==============================] - 72s 2ms/step - loss: 7.4060e-07 - mean_absolute_error: 5.2429e-04\n",
      "Epoch 78/100\n",
      "31161/31161 [==============================] - 78s 3ms/step - loss: 7.4256e-07 - mean_absolute_error: 5.2248e-04\n",
      "Epoch 79/100\n",
      "31161/31161 [==============================] - 82s 3ms/step - loss: 7.4557e-07 - mean_absolute_error: 5.2430e-04\n",
      "Epoch 80/100\n",
      "31161/31161 [==============================] - 83s 3ms/step - loss: 7.2868e-07 - mean_absolute_error: 5.1959e-04\n",
      "Epoch 81/100\n",
      "31161/31161 [==============================] - 73s 2ms/step - loss: 7.3745e-07 - mean_absolute_error: 5.2279e-04\n",
      "Epoch 82/100\n",
      "31161/31161 [==============================] - 67s 2ms/step - loss: 7.2236e-07 - mean_absolute_error: 5.1521e-04\n",
      "Epoch 83/100\n",
      "31161/31161 [==============================] - 67s 2ms/step - loss: 7.2024e-07 - mean_absolute_error: 5.1749e-04\n",
      "Epoch 84/100\n",
      "31161/31161 [==============================] - 69s 2ms/step - loss: 7.2459e-07 - mean_absolute_error: 5.1693e-04\n",
      "Epoch 85/100\n",
      "31161/31161 [==============================] - 67s 2ms/step - loss: 7.2602e-07 - mean_absolute_error: 5.1749e-04\n",
      "Epoch 86/100\n",
      "31161/31161 [==============================] - 67s 2ms/step - loss: 7.2025e-07 - mean_absolute_error: 5.1450e-04\n",
      "Epoch 87/100\n",
      "31161/31161 [==============================] - 85s 3ms/step - loss: 7.1512e-07 - mean_absolute_error: 5.1401e-04\n",
      "Epoch 88/100\n",
      "31161/31161 [==============================] - 86s 3ms/step - loss: 7.1112e-07 - mean_absolute_error: 5.1248e-04\n",
      "Epoch 89/100\n",
      "31161/31161 [==============================] - 157s 5ms/step - loss: 7.0648e-07 - mean_absolute_error: 5.0986e-04\n",
      "Epoch 90/100\n",
      "31161/31161 [==============================] - 87s 3ms/step - loss: 7.1001e-07 - mean_absolute_error: 5.1137e-04\n",
      "Epoch 91/100\n",
      "31161/31161 [==============================] - 88s 3ms/step - loss: 7.1543e-07 - mean_absolute_error: 5.1381e-04\n",
      "Epoch 92/100\n",
      "31161/31161 [==============================] - 93s 3ms/step - loss: 7.1120e-07 - mean_absolute_error: 5.1262e-04\n",
      "Epoch 93/100\n",
      "31161/31161 [==============================] - 75s 2ms/step - loss: 7.0231e-07 - mean_absolute_error: 5.0967e-04\n",
      "Epoch 94/100\n",
      "31161/31161 [==============================] - 74s 2ms/step - loss: 6.9235e-07 - mean_absolute_error: 5.0568e-04\n",
      "Epoch 95/100\n",
      "31161/31161 [==============================] - 77s 2ms/step - loss: 7.0189e-07 - mean_absolute_error: 5.0873e-04\n",
      "Epoch 96/100\n",
      "31161/31161 [==============================] - 80s 3ms/step - loss: 6.9753e-07 - mean_absolute_error: 5.0833e-04\n",
      "Epoch 97/100\n",
      "31161/31161 [==============================] - 75s 2ms/step - loss: 6.9710e-07 - mean_absolute_error: 5.0604e-04\n",
      "Epoch 98/100\n",
      "31161/31161 [==============================] - 74s 2ms/step - loss: 7.0532e-07 - mean_absolute_error: 5.0854e-04\n",
      "Epoch 99/100\n",
      "31161/31161 [==============================] - 74s 2ms/step - loss: 6.8942e-07 - mean_absolute_error: 5.0354e-04\n",
      "Epoch 100/100\n",
      "31161/31161 [==============================] - 72s 2ms/step - loss: 6.8841e-07 - mean_absolute_error: 5.0300e-04\n"
     ]
    },
    {
     "data": {
      "text/plain": [
       "<keras.callbacks.History at 0x1471aec69d0>"
      ]
     },
     "execution_count": 71,
     "metadata": {},
     "output_type": "execute_result"
    }
   ],
   "source": [
    "model.fit(X_train,y_train,epochs=100)"
   ]
  },
  {
   "cell_type": "code",
   "execution_count": 79,
   "id": "714aeae7",
   "metadata": {},
   "outputs": [],
   "source": [
    "model.save('./btc_model_01.h5')\n",
    "# keras.models.load_model(\"path\") for loading"
   ]
  },
  {
   "cell_type": "code",
   "execution_count": 76,
   "id": "354e1313",
   "metadata": {},
   "outputs": [],
   "source": [
    "y_pred = model.predict(X_test)"
   ]
  },
  {
   "cell_type": "code",
   "execution_count": 77,
   "id": "cd49e1a1",
   "metadata": {},
   "outputs": [
    {
     "data": {
      "text/plain": [
       "array([[0.4947918 , 0.49479342],\n",
       "       [0.49506527, 0.49506697],\n",
       "       [0.49514383, 0.49514547],\n",
       "       ...,\n",
       "       [0.44450867, 0.44450998],\n",
       "       [0.44409025, 0.4440916 ],\n",
       "       [0.44466108, 0.4446624 ]], dtype=float32)"
      ]
     },
     "execution_count": 77,
     "metadata": {},
     "output_type": "execute_result"
    }
   ],
   "source": [
    "y_pred"
   ]
  },
  {
   "cell_type": "code",
   "execution_count": 80,
   "id": "ea725353",
   "metadata": {},
   "outputs": [],
   "source": [
    "y_predict = scaler.inverse_transform(y_pred)"
   ]
  },
  {
   "cell_type": "code",
   "execution_count": 90,
   "id": "705e6641",
   "metadata": {},
   "outputs": [
    {
     "data": {
      "text/plain": [
       "Text(0.5, 1.0, 'Bitcoin price prediction')"
      ]
     },
     "execution_count": 90,
     "metadata": {},
     "output_type": "execute_result"
    },
    {
     "data": {
      "image/png": "[encoded data removed]",
      "text/plain": [
       "<Figure size 432x288 with 1 Axes>"
      ]
     },
     "metadata": {
      "needs_background": "light"
     },
     "output_type": "display_data"
    }
   ],
   "source": [
    "plt.figure()\n",
    "plt.plot(scaler.inverse_transform(y_test),color='g')\n",
    "plt.plot(y_predict,color='b')\n",
    "plt.legend([\"Real price\", \"Predicted\"], loc =\"lower right\")\n",
    "plt.title('Bitcoin price prediction')"
   ]
  },
  {
   "cell_type": "code",
   "execution_count": null,
   "id": "9242151c",
   "metadata": {},
   "outputs": [],
   "source": []
  }
 ],
 "metadata": {
  "kernelspec": {
   "display_name": "Python 3",
   "language": "python",
   "name": "python3"
  },
  "language_info": {
   "codemirror_mode": {
    "name": "ipython",
    "version": 3
   },
   "file_extension": ".py",
   "mimetype": "text/x-python",
   "name": "python",
   "nbconvert_exporter": "python",
   "pygments_lexer": "ipython3",
   "version": "3.8.8"
  }
 },
 "nbformat": 4,
 "nbformat_minor": 5
}
